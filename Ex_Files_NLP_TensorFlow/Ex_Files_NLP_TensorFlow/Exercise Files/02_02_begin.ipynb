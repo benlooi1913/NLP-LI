{
  "cells": [
    {
      "cell_type": "markdown",
      "metadata": {
        "colab_type": "text",
        "id": "view-in-github"
      },
      "source": [
        "<a href=\"https://colab.research.google.com/github/dswh/lil_nlp_with_tensorflow/blob/main/02_02_begin.ipynb\" target=\"_parent\"><img src=\"https://colab.research.google.com/assets/colab-badge.svg\" alt=\"Open In Colab\"/></a>"
      ]
    },
    {
      "cell_type": "markdown",
      "metadata": {
        "id": "lTguFckTEDWd"
      },
      "source": [
        "# Word Embeddings for Sentiment Analysis\n",
        "\n",
        "This notebook explains how to add the embeddings layer to the neural network. We will train our own word embeddings using a simple Keras model for a sentiment classification task.\n",
        "\n",
        "Steps include:\n",
        "1. Downloading data from tensorflow dataset.\n",
        "2. Segregating training and testing sentences & labels.\n",
        "3. Data preparation to padded sequences\n",
        "4. Defining out Keras model with an Embedding layer.\n",
        "5. Train the model and explore the weights from the embedding layer.\n"
      ]
    },
    {
      "cell_type": "code",
      "execution_count": 6,
      "metadata": {
        "id": "9mW3Mt2q5kL2"
      },
      "outputs": [
        {
          "name": "stdout",
          "output_type": "stream",
          "text": [
            "2.18.0\n"
          ]
        }
      ],
      "source": [
        "##import the required libraries and APIs\n",
        "import numpy as np\n",
        "import tensorflow as tf\n",
        "import tensorflow_datasets as tfds\n",
        "from tensorflow.keras.preprocessing.text import Tokenizer\n",
        "from tensorflow.keras.preprocessing.sequence import pad_sequences\n",
        "\n",
        "print(tf.__version__)\n",
        "\n",
        "# the integer encoding doesn't capture the relationship between words (sparse/ denvector)\n",
        "# 8 dimensional - 1024 dimensional (large dataset)"
      ]
    },
    {
      "cell_type": "markdown",
      "metadata": {
        "id": "2rhw0j_s5UZ2"
      },
      "source": [
        "## Downloading the TensorFlow `imdb_review` dataset\n",
        "\n",
        "> Make sure tensorflow_datasets is installed"
      ]
    },
    {
      "cell_type": "code",
      "execution_count": 5,
      "metadata": {
        "id": "dx_DJfb7EFHh"
      },
      "outputs": [
        {
          "name": "stderr",
          "output_type": "stream",
          "text": [
            "C:\\Users\\benlo\\AppData\\Local\\Packages\\PythonSoftwareFoundation.Python.3.12_qbz5n2kfra8p0\\LocalCache\\local-packages\\Python312\\site-packages\\tqdm\\auto.py:21: TqdmWarning: IProgress not found. Please update jupyter and ipywidgets. See https://ipywidgets.readthedocs.io/en/stable/user_install.html\n",
            "  from .autonotebook import tqdm as notebook_tqdm\n"
          ]
        },
        {
          "name": "stdout",
          "output_type": "stream",
          "text": [
            "\u001b[1mDownloading and preparing dataset Unknown size (download: Unknown size, generated: Unknown size, total: Unknown size) to C:\\Users\\benlo\\tensorflow_datasets\\imdb_reviews\\plain_text\\1.0.0...\u001b[0m\n"
          ]
        },
        {
          "name": "stderr",
          "output_type": "stream",
          "text": [
            "Dl Size...: 100%|██████████| 80/80 [36:42<00:00, 27.53s/ MiB] url]\n",
            "Dl Completed...: 100%|██████████| 1/1 [36:42<00:00, 2202.52s/ url]\n",
            "                                                                        \r"
          ]
        },
        {
          "name": "stdout",
          "output_type": "stream",
          "text": [
            "\u001b[1mDataset imdb_reviews downloaded and prepared to C:\\Users\\benlo\\tensorflow_datasets\\imdb_reviews\\plain_text\\1.0.0. Subsequent calls will reuse this data.\u001b[0m\n"
          ]
        }
      ],
      "source": [
        "##load the imdb reviews dataset\n",
        "data, info = tfds.load(\"imdb_reviews\", with_info=True, as_supervised=True)\n",
        "# dataset will be returned as tuple of (input, output) pairs, suitable for supervised learning tasks"
      ]
    },
    {
      "cell_type": "markdown",
      "metadata": {
        "id": "8MBqFTBP6DT4"
      },
      "source": [
        "## Segregating training and testing sets"
      ]
    },
    {
      "cell_type": "code",
      "execution_count": 7,
      "metadata": {
        "id": "GM2X1wLvUb8n"
      },
      "outputs": [],
      "source": [
        "##segregate training and test set\n",
        "train_data, test_data = data['train'], data['test']\n",
        "\n",
        "##create empty list to store sentences and labels\n",
        "train_sentences = []\n",
        "test_sentences = []\n",
        "\n",
        "train_labels = []\n",
        "test_labels = []"
      ]
    },
    {
      "cell_type": "code",
      "execution_count": null,
      "metadata": {
        "id": "rxoAZl0gU_y-"
      },
      "outputs": [],
      "source": [
        "##iterate over the train data to extract sentences and labels\n",
        "for sent, label in train_data:\n",
        "    train_sentences.append(str(sent.numpy().decode('utf8')))\n",
        "    train_labels.append(label.numpy())\n",
        "\n",
        "##iterate over the test set to extract sentences and labels\n",
        "for sent, label in test_data:\n",
        "    test_sentences.append(str(sent.numpy().decode('utf8')))\n",
        "    test_labels.append(label.numpy())\n",
        "\n"
      ]
    },
    {
      "cell_type": "code",
      "execution_count": null,
      "metadata": {
        "id": "eDKl0NzBITfe"
      },
      "outputs": [],
      "source": [
        "##convert lists into numpy array\n",
        "train_labels = np.array(train_labels)\n",
        "test_labels = np.array(test_labels)"
      ]
    },
    {
      "cell_type": "markdown",
      "metadata": {
        "id": "pLIjftvF6IRZ"
      },
      "source": [
        "## Data preparation - setting up the tokenizer"
      ]
    },
    {
      "cell_type": "code",
      "execution_count": null,
      "metadata": {
        "id": "6Mqx-tgBVXQz"
      },
      "outputs": [],
      "source": [
        "##define the parameters for the tokenizing and padding\n",
        "vocab_size = 10000\n",
        "embedding_dim = 16\n",
        "max_length = 150\n",
        "trunc_type='post'\n",
        "oov_tok = \"<oov>\"\n"
      ]
    },
    {
      "cell_type": "code",
      "execution_count": 8,
      "metadata": {
        "id": "nYsZatAaVmfq"
      },
      "outputs": [
        {
          "ename": "SyntaxError",
          "evalue": "unmatched ')' (1979970417.py, line 2)",
          "output_type": "error",
          "traceback": [
            "\u001b[1;36m  Cell \u001b[1;32mIn[8], line 2\u001b[1;36m\u001b[0m\n\u001b[1;33m    tokenizer.fit_on_texts(train_sentences))\u001b[0m\n\u001b[1;37m                                           ^\u001b[0m\n\u001b[1;31mSyntaxError\u001b[0m\u001b[1;31m:\u001b[0m unmatched ')'\n"
          ]
        }
      ],
      "source": [
        "tokenizer = Tokenizer(num_words = vocab_size, oov_token= oov_tok)\n",
        "tokenizer.fit_on_texts(train_sentences))\n",
        "word_index = tokenizer.word_index\n",
        "\n",
        "##training sequences and labels\n",
        "train_seqs = tokenizer.texts_to_sequences(train_sentences)\n",
        "train_padded = pad_sequences(train_seqs, maxlen=max_length, truncating=trunc_type)\n",
        "\n",
        "##testing sequences and labels\n",
        "test_seqs = tokenizer.texts_to_sequences(test_sentences)\n",
        "test_padded = pad_sequences(test_seqs,maxlen=max_length)"
      ]
    },
    {
      "cell_type": "code",
      "execution_count": null,
      "metadata": {
        "id": "U7DbJ3cWV4zC"
      },
      "outputs": [],
      "source": [
        "reverse_word_index = dict([(value, key) for (key, value) in word_index.items()])\n",
        "\n",
        "def decode_review(text):\n",
        "    return ' '.join([reverse_word_index.get(i, '?') for i in text])\n",
        "\n",
        "print(train_sentences[1])\n",
        "print(train_padded[1])\n",
        "print(decode_review(train_padded[1]))"
      ]
    },
    {
      "cell_type": "markdown",
      "metadata": {
        "id": "PcvfYesOIo3A"
      },
      "source": [
        "## Define the Neural Network with Embedding layer\n",
        "\n",
        "1. Use the Sequential API.\n",
        "2. Add an embedding input layer of input size equal to vocabulary size.\n",
        "3. Add a flatten layer, and two dense layers."
      ]
    },
    {
      "cell_type": "code",
      "execution_count": null,
      "metadata": {
        "id": "RF6ict6vWJAV"
      },
      "outputs": [],
      "source": [
        "model = tf.keras.Sequential([\n",
        "    tf.keras.layers.Embedding(vocab_size, embedding_dim, input_length=max_length),\n",
        "    tf.keras.layers.Flatten(),\n",
        "    tf.keras.layers.Dense(6, activation='relu'),\n",
        "    tf.keras.layers.Dense(1, activation='sigmoid')\n",
        "])\n",
        "\n",
        "##compile the model with loss function, optimizer and metrics\n",
        "model.compile(loss='binary_crossentropy',optimizer='adam',metrics=['accuracy'])\n",
        "model.summary()\n",
        "\n",
        "# stocastic gradient descent optimizer \n"
      ]
    },
    {
      "cell_type": "markdown",
      "metadata": {
        "id": "hlNRXgJ99Dv9"
      },
      "source": [
        "## Model Training"
      ]
    },
    {
      "cell_type": "code",
      "execution_count": null,
      "metadata": {
        "id": "2S9zFDyLWZDF"
      },
      "outputs": [],
      "source": [
        "num_epochs = 10\n",
        "\n",
        "##train the model with training and validation set\n",
        "model.fit(\n",
        "    train_padded, \n",
        "    train_labels, \n",
        "    epochs=num_epochs, \n",
        "    validation_data=(test_padded, test_labels)\n",
        "    )"
      ]
    },
    {
      "cell_type": "markdown",
      "metadata": {
        "id": "QCHKeE8Z9Gm9"
      },
      "source": [
        "## Deriving weights from the embedding layer"
      ]
    },
    {
      "cell_type": "code",
      "execution_count": null,
      "metadata": {
        "id": "X6aT5Q63gW8j"
      },
      "outputs": [],
      "source": [
        "##isolating the first embedding layer\n",
        "l1 = model.layers[0] #isolate 1st layer of the model \n",
        "\n",
        "##extracting learned weights\n",
        "weights = l1.get_weights()[0] #weight matrix\n",
        "print(weights.shape) # shape: (vocab_size, embedding_dim)\n",
        "print(weights)\n"
      ]
    },
    {
      "cell_type": "code",
      "execution_count": null,
      "metadata": {
        "id": "pGXEpSUgZMH0"
      },
      "outputs": [],
      "source": []
    }
  ],
  "metadata": {
    "accelerator": "GPU",
    "colab": {
      "authorship_tag": "ABX9TyPR6DrF/TCdxoVC8kbwGLAj",
      "collapsed_sections": [],
      "include_colab_link": true,
      "name": "02_02_begin.ipynb",
      "private_outputs": true,
      "provenance": []
    },
    "kernelspec": {
      "display_name": "Python 3",
      "name": "python3"
    },
    "language_info": {
      "codemirror_mode": {
        "name": "ipython",
        "version": 3
      },
      "file_extension": ".py",
      "mimetype": "text/x-python",
      "name": "python",
      "nbconvert_exporter": "python",
      "pygments_lexer": "ipython3",
      "version": "3.12.7"
    }
  },
  "nbformat": 4,
  "nbformat_minor": 0
}
